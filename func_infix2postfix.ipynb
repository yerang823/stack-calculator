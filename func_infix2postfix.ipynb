{
 "cells": [
  {
   "cell_type": "markdown",
   "id": "c5d63ba2",
   "metadata": {},
   "source": [
    "# 기능 구현"
   ]
  },
  {
   "cell_type": "code",
   "execution_count": 85,
   "id": "3d046ba3",
   "metadata": {},
   "outputs": [],
   "source": [
    "import itertools\n",
    "\n",
    "prec = {'*': 3, '/': 3,\n",
    "        '+': 2, '-': 2,\n",
    "        '(': 1 }\n",
    "\n",
    "def infix_to_postfix(S):\n",
    "    stack = []\n",
    "    postfix = ''\n",
    "   \n",
    "    for c in S: \n",
    "        if c == '(': # 여는괄호\n",
    "            stack.append(c)\n",
    "        \n",
    "        elif c == ')': # 닫는괄호가 나오면\n",
    "            while stack[-1] != '(': # 여는괄호 나오기 전까지 연산자를 postfix에 출력\n",
    "                postfix += stack.pop()  \n",
    "            stack.pop()\n",
    "    \n",
    "        else: # 나머지\n",
    "            if c in prec: # operator 또는 ( 일때\n",
    "                if len(stack)==0: # 스택 비어있으면 \n",
    "                    stack.append(c) # 스택에 추가\n",
    "               \n",
    "                ###\n",
    "                elif prec[stack[-1]] >= prec[c]: # 스택 마지막 요소의 연산자 우선순위가 현재 요소 우선순위보다 크거나같다면\n",
    "                    while len(stack)!=0 and prec[stack[-1]] >= prec[c]: # 스택이 비어있지 않고, 현재의 우선순위가 스택의 마지막꺼보다 더 낮은 동안\n",
    "                        postfix += stack.pop() # 스택의 마지막 연산자 빼서 answer 에 추가\n",
    "                    stack.append(c) \n",
    "                \n",
    "                else:\n",
    "                    stack.append(c) # 스택에 추가\n",
    "                    \n",
    "                    \n",
    "            else: # 피연산자일때\n",
    "                postfix += c \n",
    "            \n",
    "        \n",
    "        #print('postfix=',postfix)\n",
    "        #print('stack=',stack)\n",
    "        #print('-------------------')\n",
    "    \n",
    "    \n",
    "    while len(stack)!=0 : # 스택에 남아있는 연산자를 postfix에 추가\n",
    "        postfix += stack.pop()\n",
    "    \n",
    "    return list(itertools.chain(postfix))\n",
    "\n",
    "\n",
    "def calculate_postfix(exp):\n",
    "    s = [] \n",
    "    for e in exp:\n",
    "        if e not in prec:\n",
    "            s.append(int(e))\n",
    "        elif e == '+':\n",
    "            n1 = s.pop()\n",
    "            n2 = s.pop()\n",
    "            s.append(n2 + n1)\n",
    "        elif e == '-': \n",
    "            n1 = s.pop()\n",
    "            n2 = s.pop()\n",
    "            s.append(n2 - n1)\n",
    "        elif e == '*':\n",
    "            n1 = s.pop()\n",
    "            n2 = s.pop()\n",
    "            s.append(n2 * n1)\n",
    "        elif e == '/':\n",
    "            n1 = s.pop()\n",
    "            n2 = s.pop()\n",
    "            s.append(n2 / n1)\n",
    "    return s.pop()"
   ]
  },
  {
   "cell_type": "code",
   "execution_count": 86,
   "id": "e247430b",
   "metadata": {},
   "outputs": [
    {
     "name": "stdout",
     "output_type": "stream",
     "text": [
      "Infix   = 5+(3*4)+(2-3)\n",
      "Postfix = 534*+23-+\n",
      "Result  = 16\n"
     ]
    }
   ],
   "source": [
    "print('Infix   = ',end='')\n",
    "pf = infix_to_postfix(input())\n",
    "result = calculate_postfix(pf)\n",
    "\n",
    "\n",
    "print('Postfix =',''.join(pf))\n",
    "print('Result  =',result)"
   ]
  },
  {
   "cell_type": "code",
   "execution_count": 13,
   "id": "bd7fd4ff",
   "metadata": {},
   "outputs": [],
   "source": [
    "import itertools\n",
    "\n",
    "prec = {'*': 3, '/': 3,\n",
    "        '+': 2, '-': 2,\n",
    "        '(': 1 }\n",
    "\n",
    "class ArrayStack:\n",
    "\n",
    "    def __init__(self):\n",
    "        self.data = []\n",
    "\n",
    "    def size(self):\n",
    "        return len(self.data)\n",
    "\n",
    "    def isEmpty(self):\n",
    "        return self.size() == 0\n",
    "\n",
    "    def push(self, item):\n",
    "        self.data.append(item)\n",
    "\n",
    "    def pop(self):\n",
    "        return self.data.pop()\n",
    "\n",
    "    def last(self):\n",
    "        return self.data[-1]\n",
    "    \n",
    "    \n",
    "\n",
    "def infix_to_postfix(S):\n",
    "    stack = ArrayStack()\n",
    "    postfix = ''\n",
    "\n",
    "    for c in S: \n",
    "        if c == '(': # 여는괄호\n",
    "            stack.push(c)\n",
    "\n",
    "        elif c == ')': # 닫는괄호가 나오면\n",
    "            while stack.last() != '(': # 여는괄호 나오기 전까지 연산자를 postfix에 출력\n",
    "                postfix += stack.pop()\n",
    "            stack.pop()\n",
    "\n",
    "        else: # 나머지\n",
    "            if c in prec: # operator 또는 ( 일때\n",
    "                if stack.isEmpty():\n",
    "                    stack.push(c)\n",
    "\n",
    "                ###\n",
    "                elif prec[stack.last()] >= prec[c]: # 스택 마지막 요소의 연산자 우선순위가 현재 요소 우선순위보다 크거나같다면\n",
    "                    while not stack.isEmpty() and prec[stack.last()] >= prec[c]:\n",
    "                        postfix += stack.pop() # 스택의 마지막 연산자 빼서 answer 에 추가\n",
    "                    stack.push(c)\n",
    "\n",
    "                else:\n",
    "                    stack.push(c)\n",
    "\n",
    "\n",
    "            else: # 피연산자일때\n",
    "                postfix += c \n",
    "\n",
    "\n",
    "#         print('postfix=',postfix)\n",
    "#         print('stack=',stack)\n",
    "#         print('-------------------')\n",
    "\n",
    "\n",
    "    while not stack.isEmpty() : # 스택에 남아있는 연산자를 postfix에 추가\n",
    "        postfix += stack.pop()\n",
    "\n",
    "    return list(itertools.chain(postfix))\n",
    "\n",
    "\n",
    "def calculate_postfix(exp):\n",
    "    s = [] \n",
    "    for e in exp:\n",
    "        if e not in prec:\n",
    "            s.append(int(e))\n",
    "        elif e == '+':\n",
    "            n1 = s.pop()\n",
    "            n2 = s.pop()\n",
    "            s.append(n2 + n1)\n",
    "        elif e == '-': \n",
    "            n1 = s.pop()\n",
    "            n2 = s.pop()\n",
    "            s.append(n2 - n1)\n",
    "        elif e == '*':\n",
    "            n1 = s.pop()\n",
    "            n2 = s.pop()\n",
    "            s.append(n2 * n1)\n",
    "        elif e == '/':\n",
    "            n1 = s.pop()\n",
    "            n2 = s.pop()\n",
    "            s.append(n2 / n1)\n",
    "    return s.pop()"
   ]
  },
  {
   "cell_type": "code",
   "execution_count": 8,
   "id": "4c089cfc",
   "metadata": {
    "scrolled": true
   },
   "outputs": [
    {
     "name": "stdout",
     "output_type": "stream",
     "text": [
      "Infix   = 5*(2+3)+(4*5)\n",
      "Postfix = 523+*45*+\n",
      "Result  = 45\n"
     ]
    }
   ],
   "source": [
    "print('Infix   = ',end='')\n",
    "pf = infix_to_postfix(input())\n",
    "result = calculate_postfix(pf)\n",
    "\n",
    "\n",
    "print('Postfix =',''.join(pf))\n",
    "print('Result  =',result)s"
   ]
  },
  {
   "cell_type": "code",
   "execution_count": null,
   "id": "e8aacd83",
   "metadata": {},
   "outputs": [],
   "source": [
    "5*(2+3)+(4*5)"
   ]
  },
  {
   "cell_type": "code",
   "execution_count": null,
   "id": "e05ef1a3",
   "metadata": {},
   "outputs": [],
   "source": []
  },
  {
   "cell_type": "code",
   "execution_count": null,
   "id": "f027e824",
   "metadata": {},
   "outputs": [],
   "source": []
  },
  {
   "cell_type": "code",
   "execution_count": null,
   "id": "0fd5a66a",
   "metadata": {},
   "outputs": [],
   "source": []
  },
  {
   "cell_type": "code",
   "execution_count": 55,
   "id": "64d9c928",
   "metadata": {},
   "outputs": [],
   "source": [
    "import itertools\n",
    "import re\n",
    "\n",
    "prec = {'*': 3, '/': 3,\n",
    "        '+': 2, '-': 2,\n",
    "        '(': 1 }\n",
    "\n",
    "class ArrayStack:\n",
    "\n",
    "    def __init__(self):\n",
    "        self.data = []\n",
    "        self.result_pf = []\n",
    "\n",
    "    def setdata(self, input_string):\n",
    "        self.input = input_string\n",
    "\n",
    "    def size(self):\n",
    "        return len(self.data)\n",
    "\n",
    "    def isEmpty(self):\n",
    "        return self.size() == 0\n",
    "\n",
    "    def push(self, item):\n",
    "        self.data.append(item)\n",
    "\n",
    "    def pop(self):\n",
    "        return self.data.pop()\n",
    "\n",
    "    def last(self):\n",
    "        return self.data[-1]\n",
    "    \n",
    "    \n",
    "\n",
    "    def infix_to_postfix(self):\n",
    "        \n",
    "        #self.input = re.findall(r'\\d+', self.input)\n",
    "\n",
    "        postfix = ''\n",
    "        for c in self.input: \n",
    "            if c == '(': # 여는괄호\n",
    "                self.push(c)\n",
    "\n",
    "            elif c == ')': # 닫는괄호가 나오면\n",
    "                while self.last() != '(': # 여는괄호 나오기 전까지 연산자를 postfix에 출력\n",
    "                    postfix += self.pop()\n",
    "                self.pop()\n",
    "\n",
    "            else: # 나머지\n",
    "                if c in prec: # operator 또는 ( 일때\n",
    "                    if self.isEmpty():\n",
    "                        self.push(c)\n",
    "\n",
    "                    elif prec[self.last()] >= prec[c]: # 스택 마지막 요소의 연산자 우선순위가 현재 요소 우선순위보다 크거나같다면\n",
    "                        while not self.isEmpty() and prec[self.last()] >= prec[c]:\n",
    "                            postfix += self.pop() # 스택의 마지막 연산자 빼서 answer 에 추가\n",
    "                        self.push(c)\n",
    "\n",
    "                    else:\n",
    "                        self.push(c)\n",
    "\n",
    "\n",
    "                else: # 피연산자일때\n",
    "                    postfix += c \n",
    "\n",
    "\n",
    "    #         print('postfix=',postfix)\n",
    "    #         print('stack=',stack)\n",
    "    #         print('-------------------')\n",
    "\n",
    "\n",
    "        while not self.isEmpty() : # 스택에 남아있는 연산자를 postfix에 추가\n",
    "            postfix += self.pop()\n",
    "\n",
    "            \n",
    "        self.result = list(itertools.chain(postfix))\n",
    "        \n",
    "        return self.result\n",
    "\n",
    "\n",
    "    def calculate_postfix(self):\n",
    "        s = [] \n",
    "        for e in self.result:\n",
    "            if e not in prec:\n",
    "                s.append(float(e))\n",
    "            elif e == '+':\n",
    "                n1 = s.pop()\n",
    "                n2 = s.pop()\n",
    "                s.append(n2 + n1)\n",
    "            elif e == '-': \n",
    "                n1 = s.pop()\n",
    "                n2 = s.pop()\n",
    "                s.append(n2 - n1)\n",
    "            elif e == '*':\n",
    "                n1 = s.pop()\n",
    "                n2 = s.pop()\n",
    "                s.append(n2 * n1)\n",
    "            elif e == '/':\n",
    "                n1 = s.pop()\n",
    "                n2 = s.pop()\n",
    "                s.append(n2 / n1)\n",
    "        return s.pop()"
   ]
  },
  {
   "cell_type": "code",
   "execution_count": 47,
   "id": "928dc549",
   "metadata": {},
   "outputs": [
    {
     "name": "stdout",
     "output_type": "stream",
     "text": [
      "11*(2+33)\n",
      "['1', '1', '2', '3', '3']\n",
      "3.0\n"
     ]
    }
   ],
   "source": [
    "array_stack = ArrayStack()\n",
    "array_stack.setdata(input())\n",
    "pf = array_stack.infix_to_postfix()\n",
    "result = array_stack.calculate_postfix()\n",
    "\n",
    "print(pf)\n",
    "print(result)"
   ]
  },
  {
   "cell_type": "code",
   "execution_count": null,
   "id": "b93f7238",
   "metadata": {},
   "outputs": [],
   "source": [
    "5*(2+3)+(4*5)"
   ]
  },
  {
   "cell_type": "code",
   "execution_count": null,
   "id": "de8f067e",
   "metadata": {},
   "outputs": [],
   "source": [
    "1. 숫자 파싱\n",
    "    - 십의자리 이상\n",
    "    - 소수 가능하게\n",
    "    - 부호도 받기 "
   ]
  },
  {
   "cell_type": "code",
   "execution_count": 43,
   "id": "476658c1",
   "metadata": {},
   "outputs": [
    {
     "name": "stdout",
     "output_type": "stream",
     "text": [
      "['123', '3', '456']\n"
     ]
    }
   ],
   "source": [
    "a='123*-3+456'\n",
    "import re\n",
    "\n",
    "#string = 'aaa1234, ^&*2233pp'\n",
    "numbers = re.findall(r'\\d+', a)\n",
    "print(numbers)"
   ]
  },
  {
   "cell_type": "code",
   "execution_count": 54,
   "id": "ec091dc5",
   "metadata": {},
   "outputs": [
    {
     "data": {
      "text/plain": [
       "['*', '-', '+']"
      ]
     },
     "execution_count": 54,
     "metadata": {},
     "output_type": "execute_result"
    }
   ],
   "source": [
    "list(itertools.chain(re.sub(r'[0-9]', '', a)))"
   ]
  },
  {
   "cell_type": "code",
   "execution_count": null,
   "id": "81504f9e",
   "metadata": {},
   "outputs": [],
   "source": []
  },
  {
   "cell_type": "code",
   "execution_count": null,
   "id": "9413c0ca",
   "metadata": {},
   "outputs": [],
   "source": []
  },
  {
   "cell_type": "code",
   "execution_count": null,
   "id": "7cb63f8e",
   "metadata": {},
   "outputs": [],
   "source": []
  },
  {
   "cell_type": "code",
   "execution_count": null,
   "id": "ac26c756",
   "metadata": {},
   "outputs": [],
   "source": []
  },
  {
   "cell_type": "code",
   "execution_count": null,
   "id": "e66bc792",
   "metadata": {},
   "outputs": [],
   "source": []
  },
  {
   "cell_type": "code",
   "execution_count": null,
   "id": "8e50c3a4",
   "metadata": {},
   "outputs": [],
   "source": []
  },
  {
   "cell_type": "code",
   "execution_count": null,
   "id": "23966422",
   "metadata": {},
   "outputs": [],
   "source": []
  },
  {
   "cell_type": "code",
   "execution_count": null,
   "id": "3d9acb11",
   "metadata": {},
   "outputs": [],
   "source": []
  },
  {
   "cell_type": "code",
   "execution_count": 2,
   "id": "c0592723",
   "metadata": {},
   "outputs": [],
   "source": [
    "class Node:\n",
    "    def __init__(self, data):\n",
    "        self.data = data\n",
    "        self.left = None\n",
    "        self.right = None\n",
    "        \n",
    "        \n",
    "class NodeMgmt:\n",
    "    def __init__(self, head):\n",
    "        self.head = head\n",
    "\n",
    "    def insert(self, data):\n",
    "        self.current = self.head\n",
    "        while True:\n",
    "            if data < self.current.data:\n",
    "                if self.current.left != None:\n",
    "                    self.current = self.current.left\n",
    "                else:\n",
    "                    self.current.left = Node(data)\n",
    "                    break\n",
    "            else:\n",
    "                if self.current.right != None:\n",
    "                    self.current = self.current.right\n",
    "                else:\n",
    "                    self.current.right = Node(data)\n",
    "                    break\n",
    "\n",
    "    def search(self, data):\n",
    "        self.current = self.head\n",
    "        while self.current:\n",
    "            if self.current.data == data:\n",
    "                return True\n",
    "            elif data < self.current.data:\n",
    "                self.current = self.current.left\n",
    "            else:\n",
    "                self.current = self.current.right\n",
    "        return False"
   ]
  },
  {
   "cell_type": "code",
   "execution_count": 3,
   "id": "029648b3",
   "metadata": {},
   "outputs": [],
   "source": [
    "head = Node(4)\n",
    "BST = NodeMgmt(head)\n",
    "BST.insert(8)\n",
    "BST.insert(2)\n",
    "BST.insert(3)\n",
    "BST.insert(12)\n",
    "BST.insert(29)"
   ]
  },
  {
   "cell_type": "code",
   "execution_count": 5,
   "id": "851f1b6b",
   "metadata": {},
   "outputs": [
    {
     "data": {
      "text/plain": [
       "False"
      ]
     },
     "execution_count": 5,
     "metadata": {},
     "output_type": "execute_result"
    }
   ],
   "source": [
    "BST.search(6)"
   ]
  },
  {
   "cell_type": "code",
   "execution_count": null,
   "id": "14b31b68",
   "metadata": {},
   "outputs": [],
   "source": []
  },
  {
   "cell_type": "code",
   "execution_count": null,
   "id": "e8a382ae",
   "metadata": {},
   "outputs": [],
   "source": [
    "class Node:\n",
    "    def __init__(self, data):\n",
    "        self.data = data\n",
    "        self.left = None\n",
    "        self.right = None\n",
    "        \n",
    "        \n",
    "class NodeMgmt:\n",
    "    def __init__(self, head):\n",
    "        self.head = head\n",
    "\n",
    "    def insert(self, data):\n",
    "        self.current = self.head\n",
    "        \n",
    "        self.left\n",
    "        \n",
    "        \n",
    "        \n",
    "#         while True:\n",
    "#             if data < self.current.data: #지금 넣은게 현재노드보다 더 작으면 \n",
    "#                 if self.current.left != None:\n",
    "#                     self.current = self.current.left # 왼쪽에 뭐 있으면 그게 왼쪽이 됨\n",
    "#                 else:\n",
    "#                     self.current.left = Node(data)  # 왼쪽이 비었으면 왼쪽에 넣음\n",
    "#                     break\n",
    "#             else:\n",
    "#                 if self.current.right != None:\n",
    "#                     self.current = self.current.right\n",
    "#                 else:\n",
    "#                     self.current.right = Node(data)\n",
    "#                     break\n",
    "\n",
    "    def search(self, data):\n",
    "        self.current = self.head\n",
    "        while self.current:\n",
    "            if self.current.data == data:\n",
    "                return True\n",
    "            elif data < self.current.data:\n",
    "                self.current = self.current.left\n",
    "            else:\n",
    "                self.current = self.current.right\n",
    "        return False"
   ]
  },
  {
   "cell_type": "code",
   "execution_count": 45,
   "id": "518a1ca9",
   "metadata": {},
   "outputs": [
    {
     "name": "stdout",
     "output_type": "stream",
     "text": [
      "5\n",
      "1 - 2 3\n",
      "2 - 4 5\n",
      "3 10\n",
      "4 88\n",
      "5 65\n",
      "node1, node2, operator= 88 65 -\n",
      "node1, node2, operator= 23 10 -\n",
      "answer =  13\n"
     ]
    }
   ],
   "source": [
    "def numeric_node(node_info, node_num):\n",
    "    return int(node_info.get(node_num)[0])\n",
    "\n",
    "\n",
    "def operator_node(node_info, node_num):\n",
    "    operator, node1, node2 = node_info.get(node_num) # 딕셔너리 중 key 1 의 노드 인포메이션 -,2,3\n",
    "    node1, node2 = int(node1), int(node2) # 2,3\n",
    "\n",
    "    if len(node_info[node1]) != 1: # node_info[2] = '-','4','5'\n",
    "        node1 = operator_node(node_info, node1) # node_info, 4 ---> 4번 노드가 operator 면 여기서 다시 탐색\n",
    "    else:\n",
    "        node1 = numeric_node(node_info, node1) \n",
    "    \n",
    "    \n",
    "    if len(node_info[node2]) != 1: \n",
    "        node2 = operator_node(node_info, node2)\n",
    "    else:\n",
    "        node2 = numeric_node(node_info, node2)\n",
    "    \n",
    "    print('node1, node2, operator=',node1, node2, operator)\n",
    "    \n",
    "    if operator == '+':\n",
    "        return node1 + node2\n",
    "    elif operator == '-':\n",
    "        return node1 - node2\n",
    "    elif operator == '*':\n",
    "        return node1 * node2\n",
    "    else:\n",
    "        return node1 // node2\n",
    "\n",
    "\n",
    "\n",
    "N = int(input())\n",
    "node_info = dict()\n",
    "for _ in range(N): # 노드 개수만큼 반복\n",
    "    tmp_info = list(map(str, input().split()))\n",
    "    node_info[int(tmp_info[0])] = tmp_info[1:]\n",
    "\n",
    "answer = operator_node(node_info, 1) #왜 1을 줄까???\n",
    "#print(f'#{tc} {answer}')\n",
    "print('answer = ', answer)"
   ]
  },
  {
   "cell_type": "code",
   "execution_count": 48,
   "id": "9be7bc76",
   "metadata": {},
   "outputs": [
    {
     "data": {
      "text/plain": [
       "{1: ['-', '2', '3'], 2: ['-', '4', '5'], 3: ['10'], 4: ['88'], 5: ['65']}"
      ]
     },
     "execution_count": 48,
     "metadata": {},
     "output_type": "execute_result"
    }
   ],
   "source": [
    "node_info"
   ]
  },
  {
   "cell_type": "code",
   "execution_count": 7,
   "id": "d2fa1d3b",
   "metadata": {},
   "outputs": [
    {
     "data": {
      "text/plain": [
       "['-', '2', '3']"
      ]
     },
     "execution_count": 7,
     "metadata": {},
     "output_type": "execute_result"
    }
   ],
   "source": [
    "node_info.get(1)"
   ]
  },
  {
   "cell_type": "code",
   "execution_count": null,
   "id": "ceae874e",
   "metadata": {},
   "outputs": [],
   "source": [
    "어떤 값을 Class 의 변수로 써야할까?"
   ]
  },
  {
   "cell_type": "code",
   "execution_count": null,
   "id": "f953f44f",
   "metadata": {},
   "outputs": [],
   "source": [
    "class Node: \n",
    "    def __init__(self, data):\n",
    "        self.data = data\n",
    "        \n",
    "        \n",
    "class NodeMgmt(Node): \n",
    "    def __init__(self, node_info, node_num):\n",
    "        self.node_info = node_info\n",
    "        self.node_num = node_num\n",
    "        \n",
    "        \n",
    "    def numeric_node(self): #node_info, node_num):\n",
    "        return int(self.node_info.get(self.node.num)[0]) #node_info.get(node_num)[0])\n",
    "\n",
    "\n",
    "    def operator_node(self):\n",
    "        operator, node1, node2 = self.node.info.get(self.node.num) # 딕셔너리 중 key 1 의 노드 인포메이션 -,2,3\n",
    "        node1, node2 = int(node1), int(node2) # 2,3\n",
    "\n",
    "        if len(node_info[node1]) != 1: # node_info[2] = '-','4','5'\n",
    "            node1 = operator_node(node_info, node1) # node_info, 4 ---> 4번 노드가 operator 면 여기서 다시 탐색\n",
    "        else:\n",
    "            node1 = numeric_node(node_info, node1) \n",
    "\n",
    "\n",
    "        if len(node_info[node2]) != 1: \n",
    "            node2 = operator_node(node_info, node2)\n",
    "        else:\n",
    "            node2 = numeric_node(node_info, node2)\n",
    "\n",
    "\n",
    "        if operator == '+':\n",
    "            return node1 + node2\n",
    "        elif operator == '-':\n",
    "            return node1 - node2\n",
    "        elif operator == '*':\n",
    "            return node1 * node2\n",
    "        else:\n",
    "            return node1 // node2\n",
    "    \n",
    "    \n",
    "    '''def operator_node(node_info, node_num):\n",
    "        operator, node1, node2 = node_info.get(node_num) # 딕셔너리 중 key 1 의 노드 인포메이션 -,2,3\n",
    "        node1, node2 = int(node1), int(node2) # 2,3\n",
    "\n",
    "        if len(node_info[node1]) != 1: # node_info[2] = '-','4','5'\n",
    "            node1 = operator_node(node_info, node1) # node_info, 4 ---> 4번 노드가 operator 면 여기서 다시 탐색\n",
    "        else:\n",
    "            node1 = numeric_node(node_info, node1) \n",
    "\n",
    "\n",
    "        if len(node_info[node2]) != 1: \n",
    "            node2 = operator_node(node_info, node2)\n",
    "        else:\n",
    "            node2 = numeric_node(node_info, node2)\n",
    "\n",
    "\n",
    "        if operator == '+':\n",
    "            return node1 + node2\n",
    "        elif operator == '-':\n",
    "            return node1 - node2\n",
    "        elif operator == '*':\n",
    "            return node1 * node2\n",
    "        else:\n",
    "            return node1 // node2'''\n",
    "\n",
    "\n",
    "\n",
    "    \n",
    "if __name__ == '__main__':\n",
    "    N = int(input())\n",
    "    node_info = dict()\n",
    "    for _ in range(N): # 노드 개수만큼 반복\n",
    "        tmp_info = list(map(str, input().split()))\n",
    "        node_info[int(tmp_info[0])] = tmp_info[1:]\n",
    "\n",
    "    answer = operator_node(node_info, 1)\n",
    "    print('answer = ', answer)"
   ]
  },
  {
   "cell_type": "code",
   "execution_count": null,
   "id": "13ab5b0e",
   "metadata": {},
   "outputs": [],
   "source": []
  },
  {
   "cell_type": "code",
   "execution_count": null,
   "id": "dc8215c2",
   "metadata": {},
   "outputs": [],
   "source": []
  }
 ],
 "metadata": {
  "kernelspec": {
   "display_name": "Python 3 (ipykernel)",
   "language": "python",
   "name": "python3"
  },
  "language_info": {
   "codemirror_mode": {
    "name": "ipython",
    "version": 3
   },
   "file_extension": ".py",
   "mimetype": "text/x-python",
   "name": "python",
   "nbconvert_exporter": "python",
   "pygments_lexer": "ipython3",
   "version": "3.9.7"
  }
 },
 "nbformat": 4,
 "nbformat_minor": 5
}
